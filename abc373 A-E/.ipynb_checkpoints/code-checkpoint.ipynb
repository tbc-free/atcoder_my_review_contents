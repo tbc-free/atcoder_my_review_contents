{
 "cells": [
  {
   "cell_type": "code",
   "execution_count": null,
   "id": "b6e79900",
   "metadata": {},
   "outputs": [],
   "source": [
    "from heapq import heapify, heappop, heappush\n",
    "\n",
    "N, W = map(int, input().split())\n",
    "c = [[] for _ in range(W + 1)]\n",
    "for _ in range(N):\n",
    "    w, v = map(int, input().split())\n",
    "    c[w].append(-(v - 1))\n",
    "\n",
    "s = [[0] * (W + 1) for i in range(W + 1)]\n",
    "for i in range(1, W + 1):\n",
    "    if c[i]:\n",
    "        heapify(c[i])\n",
    "        for j in range(W // i):\n",
    "            x = -heappop(c[i])\n",
    "            s[i][j + 1] = s[i][j] + x\n",
    "            heappush(c[i], -(x - 2))\n",
    "\n",
    "dp = [[0] * (W + 1) for _ in range(W + 1)]\n",
    "for i in range(1, W + 1):\n",
    "    for j in range(W + 1):\n",
    "        for k in range(W // i + 1):\n",
    "            if j + i * k <= W:\n",
    "                dp[i][j + i * k] = max(dp[i][j + i * k], dp[i - 1][j] + s[i][k])\n",
    "print(max(dp[-1]))\n"
   ]
  },
  {
   "cell_type": "code",
   "execution_count": null,
   "id": "e0216c28",
   "metadata": {},
   "outputs": [],
   "source": []
  },
  {
   "cell_type": "code",
   "execution_count": null,
   "id": "5917ced9",
   "metadata": {},
   "outputs": [],
   "source": []
  },
  {
   "cell_type": "code",
   "execution_count": null,
   "id": "427fc5df",
   "metadata": {},
   "outputs": [],
   "source": [
    "from heapq import heappop, heappush, heapify\n",
    "# heapq.heappop() heapq.heappush() heappq.heapify()\n",
    "\n",
    "N, W = map(int, input().split())\n",
    "#　w_values : wの重さの品物の価値を格納する\n",
    "w_values = [[] for _ in range(W+1)]\n",
    "\n",
    "for _ in range(N):\n",
    "    w, v = map(int, input().split())\n",
    "    w_values[w].append(-(v-1))\n",
    "\n",
    "# w_k_values : wの重さの品物からk個選んだ時の価値\n",
    "\n",
    "w_k_values = [[0]*(W+1) for _ in range(W+1)]\n",
    "\n",
    "for i in range(1,W+1):\n",
    "    if w_values[i] != []:\n",
    "        heapify(w_values[i])\n",
    "        for k in range(W//i):\n",
    "            x = - heappop(w_values[i])\n",
    "            w_k_values[i][k+1] = w_k_values[i][k] + x\n",
    "            heappush(w_values[i], -(x-2))\n",
    "\n",
    "dp = [[0]*(W+1) for _ in range(W+1)]\n",
    "\n",
    "for i in range(1, W+1):\n",
    "    for j in range(1, W+1):\n",
    "        for k in range((W-j)//i+1):\n",
    "            dp[i][j] = max(dp[i][j], dp[i-1][j-k*i] + w_k_values[i][k])\n",
    "\n",
    "print(max(dp[W]))\n"
   ]
  },
  {
   "cell_type": "code",
   "execution_count": 1,
   "id": "98b9f992",
   "metadata": {},
   "outputs": [
    {
     "name": "stdout",
     "output_type": "stream",
     "text": [
      "[[0, 0, 0], [0, 1, 0], [0, 0, 0], [0, 0, 0]]\n"
     ]
    }
   ],
   "source": [
    "dp = [[0] * (W + 1) for _ in range(W + 1)]\n",
    "for i in range(1, W + 1):\n",
    "    for j in range(W + 1):\n",
    "        for k in range(W // i + 1):\n",
    "            if j + i * k <= W:\n",
    "                dp[i][j + i * k] = max(dp[i][j + i * k], dp[i - 1][j] + s[i][k])\n",
    "print(max(dp[-1]))\n"
   ]
  },
  {
   "cell_type": "code",
   "execution_count": null,
   "id": "6fc5ca7a",
   "metadata": {},
   "outputs": [],
   "source": []
  },
  {
   "cell_type": "code",
   "execution_count": null,
   "id": "45aad80d",
   "metadata": {},
   "outputs": [],
   "source": []
  },
  {
   "cell_type": "code",
   "execution_count": null,
   "id": "76d090b8",
   "metadata": {},
   "outputs": [],
   "source": []
  },
  {
   "cell_type": "code",
   "execution_count": null,
   "id": "070feaed",
   "metadata": {},
   "outputs": [],
   "source": []
  }
 ],
 "metadata": {
  "kernelspec": {
   "display_name": "Python 3 (ipykernel)",
   "language": "python",
   "name": "python3"
  },
  "language_info": {
   "codemirror_mode": {
    "name": "ipython",
    "version": 3
   },
   "file_extension": ".py",
   "mimetype": "text/x-python",
   "name": "python",
   "nbconvert_exporter": "python",
   "pygments_lexer": "ipython3",
   "version": "3.11.4"
  }
 },
 "nbformat": 4,
 "nbformat_minor": 5
}
